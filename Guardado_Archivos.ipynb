{
  "nbformat": 4,
  "nbformat_minor": 0,
  "metadata": {
    "colab": {
      "provenance": []
    },
    "kernelspec": {
      "name": "python3",
      "display_name": "Python 3"
    },
    "language_info": {
      "name": "python"
    }
  },
  "cells": [
    {
      "cell_type": "code",
      "execution_count": null,
      "metadata": {
        "id": "JGHA596de1Si"
      },
      "outputs": [],
      "source": []
    },
    {
      "cell_type": "markdown",
      "source": [
        "# GUARDADO DE ARCHIVOS EN PYTHON"
      ],
      "metadata": {
        "id": "_4rQ7yqSe2-b"
      }
    },
    {
      "cell_type": "code",
      "source": [
        "import pickle\n",
        "import os\n",
        "\n",
        "class Repositorio:\n",
        "    def __init__(self):\n",
        "        self.eventos = {1: \"Evento 1\", 2: \"Evento 2\"}\n",
        "        self.asistentes = {1: \"Asistente 1\", 2: \"Asistente 2\", 3: \"Asistente 3\"}\n",
        "        self.registro = {1: [1, 1], 2: [2, 1], 3: [3, 1], 4: [1, 2], 5: [2, 2]}\n",
        "        self.repositorio = [self.eventos, self.asistentes, self.registro]\n",
        "\n",
        "class Archivador:\n",
        "    def __init__(self, objeto=None, archivo='sin_nombre.pickle', respaldar=False):\n",
        "        self.objeto = objeto\n",
        "        self.archivo = archivo\n",
        "        self.respaldar = respaldar\n",
        "\n",
        "    def guardar_archivo(self, objeto=None, archivo=None, respaldar=False):\n",
        "        try:\n",
        "            if respaldar:\n",
        "                nombre_bak = archivo.split('.')[0] + '.bak'\n",
        "                if os.path.exists(archivo):\n",
        "                    if os.path.exists(nombre_bak):\n",
        "                        os.remove(nombre_bak)\n",
        "                    os.rename(archivo, nombre_bak)\n",
        "\n",
        "            with open(archivo, \"wb+\") as f:\n",
        "                pickle.dump(objeto, f)\n",
        "        except Exception as e:\n",
        "            return False, str(e)\n",
        "        return True, None\n",
        "\n",
        "    def leer_archivo(self, archivo):\n",
        "        try:\n",
        "            with open(archivo, \"rb\") as f:\n",
        "                datos_recuperados = pickle.load(f)\n",
        "        except Exception as e:\n",
        "            return False, str(e)\n",
        "        return True, datos_recuperados\n",
        "\n",
        "\n",
        "\n",
        "repositorio_obj = Repositorio()\n",
        "\n",
        "\n",
        "trabajo = Archivador(objeto=repositorio_obj.repositorio)\n",
        "\n",
        "# Leer el archivo\n",
        "resultado, sin_modificar = trabajo.leer_archivo('repositorio.pickle')\n",
        "\n",
        "\n",
        "repositorio_obj.repositorio[0][3] = \"Evento 3\"\n",
        "repositorio_modificado = repositorio_obj.repositorio\n",
        "\n",
        "\n",
        "print(\"Repositorio Modificado:\")\n",
        "print(repositorio_modificado)\n",
        "print(\"\\nRepositorio Sin Modificar:\")\n",
        "print(sin_modificar)\n",
        "\n",
        "\n",
        "trabajo.guardar_archivo(objeto=repositorio_modificado, archivo='repositorio.pickle', respaldar=False)\n",
        "\n",
        "archivo = 'archivo.doc'\n",
        "nombre_bak = archivo.split('.')[0] + '.bak'\n",
        "print(nombre_bak)"
      ],
      "metadata": {
        "id": "hnNAbqgdfAYj"
      },
      "execution_count": null,
      "outputs": []
    }
  ]
}